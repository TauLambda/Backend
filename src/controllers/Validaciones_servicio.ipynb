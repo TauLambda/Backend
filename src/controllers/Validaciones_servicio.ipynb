{
 "cells": [
  {
   "cell_type": "code",
   "execution_count": null,
   "metadata": {},
   "outputs": [],
   "source": [
    "import csv\n",
    "import boto3\n",
    "\n",
    "def lambda2_handler(event, context):\n",
    "    # Nombre del bucket de S3 y la ruta al archivo CSV\n",
    "    bucket_name = 'aws-connect-pruebas'\n",
    "    file_key = ''\n",
    "    \n",
    "    # Inicializa un diccionario para almacenar los datos extraídos\n",
    "    data = {}\n",
    "    \n",
    "    # Lee el archivo CSV desde S3\n",
    "    s3 = boto3.client('s3')\n",
    "    response = s3.get_object(Bucket=bucket_name, Key=file_key)\n",
    "    lines = response['Body'].read().decode('utf-8').splitlines()\n",
    "    \n",
    "    # Procesa cada línea del CSV\n",
    "    for line in csv.reader(lines):\n",
    "        # Supongamos que la columna 0 contiene el nombre, la columna 1 contiene la cantidad de adeudo\n",
    "        # y la columna 2 contiene el total del adeudo\n",
    "        if len(line) >= 3:\n",
    "            name = line[0]\n",
    "            amount_due = line[1]\n",
    "            total_due = line[2]\n",
    "            \n",
    "            # Agrega los datos al diccionario\n",
    "            data = {'name': name, 'amountDue': amount_due, 'totalDue': total_due}\n",
    "    \n",
    "    # Ahora 'data' contiene la información extraída del CSV\n",
    "    \n",
    "    # Puedes retornar los datos en el formato deseado\n",
    "    return data"
   ]
  },
  {
   "cell_type": "code",
   "execution_count": 26,
   "metadata": {},
   "outputs": [
    {
     "name": "stdout",
     "output_type": "stream",
     "text": [
      "{'ID_carro': 4, 'Placa': 'YGB-003', 'Modelo': 'Nissan Versa', 'ID_usuario': 3}\n",
      "Nissan Versa\n",
      "Respuesta del backend: {\"ID_carro\":4,\"Placa\":\"YGB-003\",\"Modelo\":\"Nissan Versa\",\"ID_usuario\":3}\n"
     ]
    }
   ],
   "source": [
    "import requests\n",
    "import pandas as pd\n",
    "import json\n",
    "# Agrega los datos al diccionario\n",
    "data = {\"Placa\": \"YGB-003\"}\n",
    "r = requests.get('http://localhost:8080/car/readCar',json=data) \n",
    "car_data = json.loads(r.text)\n",
    "print(car_data[\"Modelo\"])\n"
   ]
  },
  {
   "cell_type": "code",
   "execution_count": null,
   "metadata": {},
   "outputs": [],
   "source": []
  }
 ],
 "metadata": {
  "kernelspec": {
   "display_name": "Python 3",
   "language": "python",
   "name": "python3"
  },
  "language_info": {
   "codemirror_mode": {
    "name": "ipython",
    "version": 3
   },
   "file_extension": ".py",
   "mimetype": "text/x-python",
   "name": "python",
   "nbconvert_exporter": "python",
   "pygments_lexer": "ipython3",
   "version": "3.12.0"
  }
 },
 "nbformat": 4,
 "nbformat_minor": 2
}
